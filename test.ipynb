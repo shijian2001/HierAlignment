{
 "cells": [
  {
   "cell_type": "markdown",
   "metadata": {},
   "source": [
    "### Test for HierRewardDataset"
   ]
  },
  {
   "cell_type": "code",
   "execution_count": 1,
   "metadata": {},
   "outputs": [
    {
     "name": "stderr",
     "output_type": "stream",
     "text": [
      "/linxindisk/miniconda3/envs/openrlhf/lib/python3.10/site-packages/tqdm/auto.py:21: TqdmWarning: IProgress not found. Please update jupyter and ipywidgets. See https://ipywidgets.readthedocs.io/en/stable/user_install.html\n",
      "  from .autonotebook import tqdm as notebook_tqdm\n"
     ]
    }
   ],
   "source": [
    "from datasets import Dataset, DatasetDict\n",
    "import json\n",
    "from transformers import AutoTokenizer\n",
    "\n",
    "data = {\n",
    "    \"conversation\": [\n",
    "        \"The patient reports feeling a bit unwell today, experiencing headache and fever. I asked if they had a cough.\",\n",
    "    ],\n",
    "    \"soap_note\": [\n",
    "        \"The patient shows typical symptoms of a cold, suggesting rest and fluid intake.\",\n",
    "    ],\n",
    "    \"homework\": [\n",
    "        \"Continue to monitor temperature, stay hydrated, and rest.\",\n",
    "    ]\n",
    "}\n",
    "\n",
    "instruction_templates = {\n",
    "    \"conversation\": \"Based on the following conversation, create a detailed medical SOAP note: {}\",\n",
    "    \"soap_note\": \"Based on the following SOAP note, provide medical diagnosis suggestions: {}\",\n",
    "    \"homework\": \"Based on the patient's diagnosis, generate appropriate SOAO note: {}\"\n",
    "}\n",
    "\n",
    "instruction_template_file = \"instruction_templates_en.json\"\n",
    "with open(instruction_template_file, 'w', encoding='utf-8') as f:\n",
    "    json.dump(instruction_templates, f, ensure_ascii=False, indent=4)\n",
    "\n",
    "tokenizer = AutoTokenizer.from_pretrained('OpenRLHF/Llama-3-8b-sft-mixture')\n",
    "\n",
    "dataset = Dataset.from_dict(data)\n",
    "\n",
    "class Strategy:\n",
    "    def __init__(self, args):\n",
    "        self.args = args\n",
    "\n",
    "class Args:\n",
    "    def __init__(self):\n",
    "        self.conv_key = \"conversation\"\n",
    "        self.soap_key = \"soap_note\"\n",
    "        self.hw_key = \"homework\"\n",
    "        self.apply_chat_template = True\n",
    "\n",
    "args = Args()\n",
    "strategy = Strategy(args)\n"
   ]
  },
  {
   "cell_type": "code",
   "execution_count": 2,
   "metadata": {},
   "outputs": [
    {
     "data": {
      "text/plain": [
       "\"{% if not add_generation_prompt is defined %}{% set add_generation_prompt = false %}{% endif %}{% for message in messages %}{{'<|start_header_id|>' + message['role'] + '<|end_header_id|>' + '\\n' + message['content'] + '<|eot_id|>' + '\\n'}}{% endfor %}{% if add_generation_prompt %}{{ '<|start_header_id|>assistant<|end_header_id|>\\n' }}{% endif %}\""
      ]
     },
     "execution_count": 2,
     "metadata": {},
     "output_type": "execute_result"
    }
   ],
   "source": [
    "tokenizer.chat_template"
   ]
  },
  {
   "cell_type": "code",
   "execution_count": 3,
   "metadata": {},
   "outputs": [
    {
     "name": "stderr",
     "output_type": "stream",
     "text": [
      "num_proc must be <= 1. Reducing num_proc to 1 for dataset of size 1.\n",
      "Map: 100%|██████████| 1/1 [00:00<00:00, 98.07 examples/s]\n"
     ]
    }
   ],
   "source": [
    "from hierdpo.datasets import HierRewardDataset\n",
    "\n",
    "dataset_obj = HierRewardDataset(\n",
    "    dataset=dataset,\n",
    "    tokenizer=tokenizer,\n",
    "    strategy=strategy,\n",
    "    instruction_template_file=instruction_template_file\n",
    ")"
   ]
  },
  {
   "cell_type": "code",
   "execution_count": 5,
   "metadata": {},
   "outputs": [
    {
     "name": "stdout",
     "output_type": "stream",
     "text": [
      "Prompt SOAP DE:\n",
      "<|start_header_id|>user<|end_header_id|>\n",
      "Based on the following conversation, create a detailed medical SOAP note: The patient reports feeling a bit unwell today, experiencing headache and fever. I asked if they had a cough.<|eot_id|>\n",
      "<|start_header_id|>assistant<|end_header_id|>\n",
      "\n",
      "Chosen SOAP DE:\n",
      "<|start_header_id|>user<|end_header_id|>\n",
      "Based on the following conversation, create a detailed medical SOAP note: The patient reports feeling a bit unwell today, experiencing headache and fever. I asked if they had a cough.<|eot_id|>\n",
      "<|start_header_id|>assistant<|end_header_id|>\n",
      "The patient shows typical symptoms of a cold, suggesting rest and fluid intake.<|eot_id|>\n",
      "\n",
      "==================================================\n",
      "Prompt SOAP IN:\n",
      "<|start_header_id|>user<|end_header_id|>\n",
      "Based on the patient's diagnosis, generate appropriate SOAO note: Continue to monitor temperature, stay hydrated, and rest.<|eot_id|>\n",
      "<|start_header_id|>assistant<|end_header_id|>\n",
      "\n",
      "Chosen SOAP IN:\n",
      "<|start_header_id|>user<|end_header_id|>\n",
      "Based on the patient's diagnosis, generate appropriate SOAO note: Continue to monitor temperature, stay hydrated, and rest.<|eot_id|>\n",
      "<|start_header_id|>assistant<|end_header_id|>\n",
      "The patient shows typical symptoms of a cold, suggesting rest and fluid intake.<|eot_id|>\n",
      "\n",
      "Prompt HW:\n",
      "<|start_header_id|>user<|end_header_id|>\n",
      "Based on the following SOAP note, provide medical diagnosis suggestions: The patient shows typical symptoms of a cold, suggesting rest and fluid intake.<|eot_id|>\n",
      "<|start_header_id|>assistant<|end_header_id|>\n",
      "\n",
      "Chosen HW:\n",
      "<|start_header_id|>user<|end_header_id|>\n",
      "Based on the following SOAP note, provide medical diagnosis suggestions: The patient shows typical symptoms of a cold, suggesting rest and fluid intake.<|eot_id|>\n",
      "<|start_header_id|>assistant<|end_header_id|>\n",
      "Continue to monitor temperature, stay hydrated, and rest.<|eot_id|>\n",
      "\n",
      "==================================================\n"
     ]
    }
   ],
   "source": [
    "for i in range(len(dataset_obj)):\n",
    "    prompt_soap_de, chosen_soap_de, prompt_soap_in, chosen_soap_in, prompt_hw, chosen_hw = dataset_obj[i]\n",
    "    print(f\"Prompt SOAP DE:\\n{prompt_soap_de}\\n\")\n",
    "    print(f\"Chosen SOAP DE:\\n{chosen_soap_de}\\n\")\n",
    "    print(\"=\" * 50)\n",
    "    print(f\"Prompt SOAP IN:\\n{prompt_soap_in}\\n\")\n",
    "    print(f\"Chosen SOAP IN:\\n{chosen_soap_in}\\n\")\n",
    "    print(f\"Prompt HW:\\n{prompt_hw}\\n\")\n",
    "    print(f\"Chosen HW:\\n{chosen_hw}\\n\")\n",
    "    print(\"=\" * 50)"
   ]
  }
 ],
 "metadata": {
  "kernelspec": {
   "display_name": "openrlhf",
   "language": "python",
   "name": "python3"
  },
  "language_info": {
   "codemirror_mode": {
    "name": "ipython",
    "version": 3
   },
   "file_extension": ".py",
   "mimetype": "text/x-python",
   "name": "python",
   "nbconvert_exporter": "python",
   "pygments_lexer": "ipython3",
   "version": "3.10.16"
  }
 },
 "nbformat": 4,
 "nbformat_minor": 2
}
